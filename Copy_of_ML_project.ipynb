{
  "nbformat": 4,
  "nbformat_minor": 0,
  "metadata": {
    "kernelspec": {
      "display_name": "Python 3",
      "language": "python",
      "name": "python3"
    },
    "language_info": {
      "codemirror_mode": {
        "name": "ipython",
        "version": 3
      },
      "file_extension": ".py",
      "mimetype": "text/x-python",
      "name": "python",
      "nbconvert_exporter": "python",
      "pygments_lexer": "ipython3",
      "version": "3.7.4"
    },
    "colab": {
      "name": "Copy of ML-project.ipynb",
      "provenance": [],
      "collapsed_sections": [],
      "include_colab_link": true
    }
  },
  "cells": [
    {
      "cell_type": "markdown",
      "metadata": {
        "id": "view-in-github",
        "colab_type": "text"
      },
      "source": [
        "<a href=\"https://colab.research.google.com/github/hengyingchou/Machine-learning-Project/blob/master/Copy_of_ML_project.ipynb\" target=\"_parent\"><img src=\"https://colab.research.google.com/assets/colab-badge.svg\" alt=\"Open In Colab\"/></a>"
      ]
    },
    {
      "cell_type": "code",
      "metadata": {
        "id": "ftlP291M8Kj-",
        "colab_type": "code",
        "colab": {}
      },
      "source": [
        "import numpy as np\n",
        "import numpy.linalg as LA"
      ],
      "execution_count": 0,
      "outputs": []
    },
    {
      "cell_type": "code",
      "metadata": {
        "id": "mY8V3YDq8Kke",
        "colab_type": "code",
        "colab": {}
      },
      "source": [
        "# Setups\n",
        "%matplotlib inline\n",
        "%pdb off\n",
        "import numpy as np\n",
        "# limit number of decimal places printed for floating-point numbers\n",
        "np.set_printoptions(precision=3)\n",
        "\n",
        "# scipy = scientific Python, implements operations on arrays / matrices\n",
        "import scipy as sp\n",
        "# linalg = linear algebra, implements eigenvalues, matrix inverse, etc\n",
        "from scipy import linalg as la\n",
        "# optimize = optimization, root finding, etc\n",
        "from scipy import optimize as op\n",
        "\n",
        "# produce matlab-style plots\n",
        "import matplotlib as mpl\n",
        "# increase font size on plots\n",
        "mpl.rc('font',**{'size':18})\n",
        "# use LaTeX to render symbols\n",
        "mpl.rc('text',usetex=False)\n",
        "# animation\n",
        "from matplotlib import animation as animation\n",
        "from IPython.display import HTML\n",
        "mpl.rc('animation', html='jshtml')\n",
        "# Matlab-style plotting\n",
        "import matplotlib.pyplot as plt\n",
        "\n",
        "# symbolic computation, i.e. computer algebra (like Mathematica, Wolfram Alpha)\n",
        "import sympy as sym\n"
      ],
      "execution_count": 0,
      "outputs": []
    },
    {
      "cell_type": "code",
      "metadata": {
        "id": "Q7W4iHM_8Kkn",
        "colab_type": "code",
        "colab": {}
      },
      "source": [
        "def inverted_pen_matrix(state,u = 0):\n",
        "    \"\"\"\n",
        "      inputs:\n",
        "        t: a number\n",
        "        t is the time of this iteration\n",
        "        state: a 1*4 vector\n",
        "        state is the current state, listed as [x,x',theta,theta'] \n",
        "        u: a function \n",
        "        u is a function that yields the input force\n",
        "\n",
        "        outputs:\n",
        "        state_new: a 1*4 vector\n",
        "        state_new is the new state after running this iteration , listed as [x,x',theta,theta'] \n",
        "\n",
        "    \"\"\"\n",
        "\n",
        "    M = 10\n",
        "    m = 1\n",
        "    l = 1\n",
        "    g = 9.81\n",
        "    \n",
        "    x,dx,theta,dtheta = state[0],state[1],state[2],state[3]\n",
        "\n",
        "    A = np.array([[M+m,-m*l*np.cos(theta)],[-np.cos(theta),l]])\n",
        "    #print(A)\n",
        "    B = np.array([[u - m*l*dtheta**2*np.sin(theta)],[g*np.sin(theta)]])\n",
        "    #print(B)\n",
        "    inv_A = np.linalg.inv(A)\n",
        "\n",
        "    total_M = np.dot(inv_A,B)\n",
        " \n",
        "    ddtheta = total_M[1]\n",
        "    ddx = total_M[0]\n",
        "\n",
        "    return np.hstack([dx, ddx, dtheta, ddtheta])"
      ],
      "execution_count": 0,
      "outputs": []
    },
    {
      "cell_type": "code",
      "metadata": {
        "id": "CyZsI0Kj8KlE",
        "colab_type": "code",
        "colab": {}
      },
      "source": [
        "x0 = np.array([0,0,np.pi,0])\n",
        "t_end = 10\n",
        "t_step = 0.01\n",
        "t_ = np.arange(0,t_end,t_step)\n",
        "\n",
        "impulse_force = lambda t: 1 if t == 0 else 0\n",
        "step_force = lambda t: 1\n",
        "ramp_force = lambda t: t\n",
        "sin_force = lambda t: np.sin(t)"
      ],
      "execution_count": 0,
      "outputs": []
    },
    {
      "cell_type": "code",
      "metadata": {
        "id": "DGc3y9em8KlK",
        "colab_type": "code",
        "colab": {}
      },
      "source": [
        "N = 4 \n",
        "t = 10\n",
        "T = np.linspace(0,10,1001)\n",
        "m = len(T)\n",
        "X = np.zeros([m,N])\n",
        "X0 = np.array([1,0,0,0])\n",
        "X[0,:] = X0\n",
        "dt = T[1] - T[0]\n",
        "\n",
        "\n",
        "\n",
        "for i in range(m-1):\n",
        "    D = inverted_pen_matrix(X[i,:],impulse_force(T[i]))\n",
        "    #print(D)\n",
        "    X[i+1,:] = X[i,:] + D*dt\n",
        "\n",
        "X_with_time_u = np.zeros((1001,6))\n",
        "X_with_time_u[:,1:5] = X\n",
        "X_with_time_u[:,0] = T\n",
        "X_with_time_u[:,5] = impulse_force(T)\n",
        "\n",
        "np.savetxt('impulse.txt', X_with_time_u, fmt='%.2e')"
      ],
      "execution_count": 0,
      "outputs": []
    },
    {
      "cell_type": "code",
      "metadata": {
        "id": "SzLk8o_W8Klf",
        "colab_type": "code",
        "colab": {}
      },
      "source": [
        "X = np.zeros([m,N])\n",
        "X0 = np.array([1,0,0,0])\n",
        "X[0,:] = X0\n",
        "for i in range(m-1):\n",
        "    D = inverted_pen_matrix(X[i,:],step_force(T[i]))\n",
        "    X[i+1,:] = X[i,:] + D*dt\n",
        "\n",
        "X_with_time_u = np.zeros((1001,6))\n",
        "X_with_time_u[:,1:5] = X\n",
        "X_with_time_u[:,0] = T\n",
        "X_with_time_u[:,5] = step_force(T)\n",
        "\n",
        "np.savetxt('step_force.txt', X_with_time_u, fmt='%.2e')"
      ],
      "execution_count": 0,
      "outputs": []
    },
    {
      "cell_type": "code",
      "metadata": {
        "id": "hxeLEW-i8Kln",
        "colab_type": "code",
        "colab": {}
      },
      "source": [
        "X = np.zeros([m,N])\n",
        "X0 = np.array([1,0,0,0])\n",
        "X[0,:] = X0\n",
        "for i in range(m-1):\n",
        "    D = inverted_pen_matrix(X[i,:],ramp_force(T[i]))\n",
        "    X[i+1,:] = X[i,:] + D*dt\n",
        "\n",
        "X_with_time_u = np.zeros((1001,6))\n",
        "X_with_time_u[:,1:5] = X\n",
        "X_with_time_u[:,0] = T\n",
        "X_with_time_u[:,5] = ramp_force(T)\n",
        "\n",
        "np.savetxt('ramp_force.txt', X_with_time_u, fmt='%.2e')"
      ],
      "execution_count": 0,
      "outputs": []
    },
    {
      "cell_type": "code",
      "metadata": {
        "id": "c-hh0GH-8Klz",
        "colab_type": "code",
        "colab": {}
      },
      "source": [
        "X = np.zeros([m,N])\n",
        "X0 = np.array([1,0,0,0])\n",
        "X[0,:] = X0\n",
        "for i in range(m-1):\n",
        "    D = inverted_pen_matrix(X[i,:],sin_force(T[i]))\n",
        "    #print(D)\n",
        "    X[i+1,:] = X[i,:] + D*dt\n",
        "\n",
        "X_with_time_u = np.zeros((1001,6))\n",
        "X_with_time_u[:,1:5] = X\n",
        "X_with_time_u[:,0] = T\n",
        "X_with_time_u[:,5] = sin_force(T)\n",
        "\n",
        "np.savetxt('sin_force.txt', X_with_time_u, fmt='%.2e')"
      ],
      "execution_count": 0,
      "outputs": []
    }
  ]
}