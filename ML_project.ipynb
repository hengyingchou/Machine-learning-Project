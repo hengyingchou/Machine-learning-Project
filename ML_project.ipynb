{
  "nbformat": 4,
  "nbformat_minor": 0,
  "metadata": {
    "kernelspec": {
      "display_name": "Python 3",
      "language": "python",
      "name": "python3"
    },
    "language_info": {
      "codemirror_mode": {
        "name": "ipython",
        "version": 3
      },
      "file_extension": ".py",
      "mimetype": "text/x-python",
      "name": "python",
      "nbconvert_exporter": "python",
      "pygments_lexer": "ipython3",
      "version": "3.7.4"
    },
    "colab": {
      "name": "ML-project.ipynb",
      "provenance": [],
      "include_colab_link": true
    }
  },
  "cells": [
    {
      "cell_type": "markdown",
      "metadata": {
        "id": "view-in-github",
        "colab_type": "text"
      },
      "source": [
        "<a href=\"https://colab.research.google.com/github/hengyingchou/Machine-learning-Project/blob/master/ML_project.ipynb\" target=\"_parent\"><img src=\"https://colab.research.google.com/assets/colab-badge.svg\" alt=\"Open In Colab\"/></a>"
      ]
    },
    {
      "cell_type": "code",
      "metadata": {
        "id": "ftlP291M8Kj-",
        "colab_type": "code",
        "colab": {}
      },
      "source": [
        "import numpy as np\n",
        "import numpy.linalg as LA"
      ],
      "execution_count": 0,
      "outputs": []
    },
    {
      "cell_type": "code",
      "metadata": {
        "id": "mY8V3YDq8Kke",
        "colab_type": "code",
        "colab": {},
        "outputId": "686ab2cc-1e23-4cd5-bcfd-b43452a07992"
      },
      "source": [
        "# Setups\n",
        "%matplotlib inline\n",
        "%pdb off\n",
        "import numpy as np\n",
        "# limit number of decimal places printed for floating-point numbers\n",
        "np.set_printoptions(precision=3)\n",
        "\n",
        "# scipy = scientific Python, implements operations on arrays / matrices\n",
        "import scipy as sp\n",
        "# linalg = linear algebra, implements eigenvalues, matrix inverse, etc\n",
        "from scipy import linalg as la\n",
        "# optimize = optimization, root finding, etc\n",
        "from scipy import optimize as op\n",
        "\n",
        "# produce matlab-style plots\n",
        "import matplotlib as mpl\n",
        "# increase font size on plots\n",
        "mpl.rc('font',**{'size':18})\n",
        "# use LaTeX to render symbols\n",
        "mpl.rc('text',usetex=False)\n",
        "# animation\n",
        "from matplotlib import animation as animation\n",
        "from IPython.display import HTML\n",
        "mpl.rc('animation', html='jshtml')\n",
        "# Matlab-style plotting\n",
        "import matplotlib.pyplot as plt\n",
        "\n",
        "# symbolic computation, i.e. computer algebra (like Mathematica, Wolfram Alpha)\n",
        "import sympy as sym\n"
      ],
      "execution_count": 0,
      "outputs": [
        {
          "output_type": "stream",
          "text": [
            "Automatic pdb calling has been turned OFF\n"
          ],
          "name": "stdout"
        }
      ]
    },
    {
      "cell_type": "code",
      "metadata": {
        "id": "Q7W4iHM_8Kkn",
        "colab_type": "code",
        "colab": {}
      },
      "source": [
        "def inverted_pen_matrix(state,u = 0):\n",
        "    \"\"\"\n",
        "      inputs:\n",
        "        t: a number\n",
        "        t is the time of this iteration\n",
        "        state: a 1*4 vector\n",
        "        state is the current state, listed as [x,x',theta,theta'] \n",
        "        u: a function \n",
        "        u is a function that yields the input force\n",
        "\n",
        "        outputs:\n",
        "        state_new: a 1*4 vector\n",
        "        state_new is the new state after running this iteration , listed as [x,x',theta,theta'] \n",
        "\n",
        "    \"\"\"\n",
        "\n",
        "    M = 10\n",
        "    m = 1\n",
        "    l = 1\n",
        "    g = 9.81\n",
        "    \n",
        "    x,dx,theta,dtheta = state[0],state[1],state[2],state[3]\n",
        "\n",
        "    A = np.array([[M+m,-m*l*np.cos(theta)],[-np.cos(theta),l]])\n",
        "    #print(A)\n",
        "    B = np.array([[u - m*l*dtheta**2*np.sin(theta)],[g*np.sin(theta)]])\n",
        "    #print(B)\n",
        "    inv_A = np.linalg.inv(A)\n",
        "\n",
        "    total_M = np.dot(inv_A,B)\n",
        " \n",
        "    ddtheta = total_M[1]\n",
        "    ddx = total_M[0]\n",
        "\n",
        "    return np.hstack([dx, ddx, dtheta, ddtheta])"
      ],
      "execution_count": 0,
      "outputs": []
    },
    {
      "cell_type": "code",
      "metadata": {
        "id": "CyZsI0Kj8KlE",
        "colab_type": "code",
        "colab": {}
      },
      "source": [
        "x0 = np.array([0,0,np.pi,0])\n",
        "t_end = 10\n",
        "t_step = 0.01\n",
        "t_ = np.arange(0,t_end,t_step)\n",
        "\n",
        "impulse_force = lambda t: 1 if t == 0 else 0\n",
        "step_force = lambda t: 1\n",
        "ramp_force = lambda t: t\n",
        "sin_force = lambda t: np.sin(t)"
      ],
      "execution_count": 0,
      "outputs": []
    },
    {
      "cell_type": "code",
      "metadata": {
        "id": "DGc3y9em8KlK",
        "colab_type": "code",
        "colab": {},
        "outputId": "44ad15bc-abd8-4c8f-f67f-e90c1e41d86b"
      },
      "source": [
        "N = 4 \n",
        "t = 10\n",
        "T = np.linspace(0,10,1001)\n",
        "m = len(T)\n",
        "X = np.zeros([m,N])\n",
        "X0 = np.array([1,0,0,0])\n",
        "X[0,:] = X0\n",
        "dt = T[1] - T[0]\n",
        "\n",
        "\n",
        "\n",
        "for i in range(m-1):\n",
        "    D = inverted_pen_matrix(X[i,:],impulse_force(T[i]))\n",
        "    #print(D)\n",
        "    X[i+1,:] = X[i,:] + D*dt\n",
        "np.savetxt('impulse.txt', X, fmt='%.2e')\n",
        "\n",
        "    \n",
        "#print(X)\n",
        "plt.plot(T,X)\n",
        "\n"
      ],
      "execution_count": 0,
      "outputs": [
        {
          "output_type": "execute_result",
          "data": {
            "text/plain": [
              "[<matplotlib.lines.Line2D at 0x101808c510>,\n",
              " <matplotlib.lines.Line2D at 0x101808c710>,\n",
              " <matplotlib.lines.Line2D at 0x101808c8d0>,\n",
              " <matplotlib.lines.Line2D at 0x101808ca90>]"
            ]
          },
          "metadata": {
            "tags": []
          },
          "execution_count": 74
        },
        {
          "output_type": "display_data",
          "data": {
            "image/png": "[encoded data removed]",
            "text/plain": [
              "<Figure size 432x288 with 1 Axes>"
            ]
          },
          "metadata": {
            "tags": [],
            "needs_background": "light"
          }
        }
      ]
    },
    {
      "cell_type": "code",
      "metadata": {
        "id": "BHSseRc98KlO",
        "colab_type": "code",
        "colab": {}
      },
      "source": [
        "def inverted_pen(state,u = 0):\n",
        "    \"\"\"\n",
        "        inputs:\n",
        "        t: a number\n",
        "        t is the time of this iteration\n",
        "        state: a 1*4 vector\n",
        "        state is the current state, listed as [x,x',theta,theta'] \n",
        "        u: a function \n",
        "        u is a function that yields the input force\n",
        "\n",
        "        outputs:\n",
        "            state_new: a 1*4 vector\n",
        "            state_new is the new state after running this iteration , listed as [x,x',theta,theta'] \n",
        "\n",
        "    \"\"\"\n",
        "\n",
        "    M = 10\n",
        "    m = 1\n",
        "    l = 1\n",
        "    g = 9.81\n",
        "\n",
        "    x,dx,theta,dtheta = state[0],state[1],state[2],state[3]\n",
        "\n",
        "    #ddtheta = ((u/(M+m))-(m*l*dtheta**2*np.cos(theta))/(M+m) + (g*np.sin(theta))/np.cos(theta)) / (l/np.cos(theta) - (m*l*np.cos(theta))/(M*m))\n",
        "    #ddx = (l*ddtheta) / np.cos(theta) - (g*np.sin(theta))/(np.cos(theta))\n",
        "    ddx = (u+m*np.sin(theta)*(l*dtheta**2-g*np.cos(theta)))/(M+m*(np.sin(theta))**2)\n",
        "    ddtheta = (u*np.cos(theta) - m*l*dtheta**2*np.sin(theta)*np.cos(theta) + (M+m)*g*np.sin(theta))/l/(M+m*(np.sin(theta))**2)\n",
        "\n",
        "    return np.hstack([dx, ddx, dtheta, ddtheta])"
      ],
      "execution_count": 0,
      "outputs": []
    },
    {
      "cell_type": "code",
      "metadata": {
        "id": "MOYsQ8ln8KlT",
        "colab_type": "code",
        "colab": {},
        "outputId": "9c32ed38-1448-46c9-e6ae-ea885880238e"
      },
      "source": [
        "N = 4 \n",
        "t = 10\n",
        "T = np.linspace(0,10,1001)\n",
        "m = len(T)\n",
        "X = np.zeros([m,N])\n",
        "X0 = np.array([1,0,0,0])\n",
        "X[0,:] = X0\n",
        "dt = T[1] - T[0]\n",
        "for i in range(m-1):\n",
        "    D = inverted_pen(X[i,:],impulse_force(T[i]))\n",
        "    #print(D)\n",
        "    X[i+1,:] = X[i,:] + D*dt\n",
        "print(X)    \n",
        "plt.plot(T,X)"
      ],
      "execution_count": 0,
      "outputs": [
        {
          "output_type": "stream",
          "text": [
            "[[ 1.000e+00  0.000e+00  0.000e+00  0.000e+00]\n",
            " [ 1.000e+00  1.000e-03  0.000e+00  1.000e-03]\n",
            " [ 1.000e+00  1.000e-03  1.000e-05  1.000e-03]\n",
            " ...\n",
            " [ 1.080e+00 -2.222e-01  3.056e+01  3.833e+00]\n",
            " [ 1.078e+00 -2.281e-01  3.060e+01  3.762e+00]\n",
            " [ 1.076e+00 -2.333e-01  3.064e+01  3.694e+00]]\n"
          ],
          "name": "stdout"
        },
        {
          "output_type": "execute_result",
          "data": {
            "text/plain": [
              "[<matplotlib.lines.Line2D at 0x1018014790>,\n",
              " <matplotlib.lines.Line2D at 0x1018014990>,\n",
              " <matplotlib.lines.Line2D at 0x1018014b50>,\n",
              " <matplotlib.lines.Line2D at 0x1018014d10>]"
            ]
          },
          "metadata": {
            "tags": []
          },
          "execution_count": 73
        },
        {
          "output_type": "display_data",
          "data": {
            "image/png": "[encoded data removed]",
            "text/plain": [
              "<Figure size 432x288 with 1 Axes>"
            ]
          },
          "metadata": {
            "tags": [],
            "needs_background": "light"
          }
        }
      ]
    },
    {
      "cell_type": "code",
      "metadata": {
        "id": "SzLk8o_W8Klf",
        "colab_type": "code",
        "colab": {}
      },
      "source": [
        "X = np.zeros([m,N])\n",
        "X0 = np.array([1,0,0,0])\n",
        "X[0,:] = X0\n",
        "for i in range(m-1):\n",
        "    D = inverted_pen_matrix(X[i,:],step_force(T[i]))\n",
        "    X[i+1,:] = X[i,:] + D*dt\n",
        "np.savetxt('step_force.txt', X, fmt='%.2e')"
      ],
      "execution_count": 0,
      "outputs": []
    },
    {
      "cell_type": "code",
      "metadata": {
        "id": "hxeLEW-i8Kln",
        "colab_type": "code",
        "colab": {}
      },
      "source": [
        "X = np.zeros([m,N])\n",
        "X0 = np.array([1,0,0,0])\n",
        "X[0,:] = X0\n",
        "for i in range(m-1):\n",
        "    D = inverted_pen_matrix(X[i,:],ramp_force(T[i]))\n",
        "    X[i+1,:] = X[i,:] + D*dt\n",
        "np.savetxt('ramp_force.txt', X, fmt='%.2e')"
      ],
      "execution_count": 0,
      "outputs": []
    },
    {
      "cell_type": "code",
      "metadata": {
        "id": "c-hh0GH-8Klz",
        "colab_type": "code",
        "colab": {}
      },
      "source": [
        "X = np.zeros([m,N])\n",
        "X0 = np.array([1,0,0,0])\n",
        "X[0,:] = X0\n",
        "for i in range(m-1):\n",
        "    D = inverted_pen_matrix(X[i,:],sin_force(T[i]))\n",
        "    #print(D)\n",
        "    X[i+1,:] = X[i,:] + D*dt\n",
        "np.savetxt('sin_force.txt', X, fmt='%.2e')"
      ],
      "execution_count": 0,
      "outputs": []
    },
    {
      "cell_type": "code",
      "metadata": {
        "id": "koDlKcaG8Kl4",
        "colab_type": "code",
        "colab": {}
      },
      "source": [
        ""
      ],
      "execution_count": 0,
      "outputs": []
    }
  ]
}